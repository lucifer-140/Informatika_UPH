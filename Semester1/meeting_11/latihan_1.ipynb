{
 "cells": [
  {
   "cell_type": "code",
   "execution_count": 61,
   "metadata": {},
   "outputs": [
    {
     "name": "stdout",
     "output_type": "stream",
     "text": [
      "Nilai terbesar =  2356\n"
     ]
    }
   ],
   "source": [
    "def maxNum(x):\n",
    "    max = 0\n",
    "    for i in range(len(x)):\n",
    "        if max < x[i]:\n",
    "            max = x[i]\n",
    "    return max\n",
    "\n",
    "\n",
    "\n",
    "n = list(input(\"bilangan ? \").split(\",\"))\n",
    "ls = []\n",
    "for case in n:\n",
    "    if case.isnumeric():\n",
    "        ls.append(int(case))\n",
    "\n",
    "\n",
    "print(\"Nilai terbesar = \",maxNum(ls))\n"
   ]
  },
  {
   "cell_type": "code",
   "execution_count": 6,
   "metadata": {},
   "outputs": [
    {
     "name": "stdout",
     "output_type": "stream",
     "text": [
      "20\n"
     ]
    }
   ],
   "source": [
    "def SumList(x):\n",
    "    total = 0\n",
    "    for i in range(len(x)):\n",
    "        total += x[i]\n",
    "    return total\n",
    "\n",
    "ls = [8, 2, 3, 0, 7]\n",
    "\n",
    "print(SumList(ls))"
   ]
  },
  {
   "cell_type": "code",
   "execution_count": 9,
   "metadata": {},
   "outputs": [
    {
     "name": "stdout",
     "output_type": "stream",
     "text": [
      "-336\n"
     ]
    }
   ],
   "source": [
    "def MultiplyList(x):\n",
    "    total = 1\n",
    "    for i in range(len(x)):\n",
    "        total *= x[i]\n",
    "    return total\n",
    "\n",
    "ls = [8, 2, 3, -1, 7]\n",
    "\n",
    "print(MultiplyList(ls))"
   ]
  },
  {
   "cell_type": "code",
   "execution_count": 30,
   "metadata": {},
   "outputs": [
    {
     "name": "stdout",
     "output_type": "stream",
     "text": [
      "dcba4321\n"
     ]
    }
   ],
   "source": [
    "def ReverseString(x):\n",
    "    temp = \"\"\n",
    "    for i in range(len(x)-1, -1, -1):\n",
    "        temp += str(x[i])\n",
    "    return temp\n",
    "\n",
    "stringIs = \"1234abcd\"\n",
    "\n",
    "print(ReverseString(stringIs))"
   ]
  },
  {
   "cell_type": "code",
   "execution_count": 42,
   "metadata": {},
   "outputs": [
    {
     "name": "stdout",
     "output_type": "stream",
     "text": [
      "120\n"
     ]
    }
   ],
   "source": [
    "def Factorial(x):\n",
    "    total = 1\n",
    "    for i in range(1, x+1):\n",
    "        total *= i\n",
    "    return total\n",
    "\n",
    "\n",
    "n = 5\n",
    "\n",
    "print(Factorial(n))"
   ]
  },
  {
   "cell_type": "code",
   "execution_count": 43,
   "metadata": {},
   "outputs": [
    {
     "name": "stdout",
     "output_type": "stream",
     "text": [
      "2 * 5 = 10\n",
      "2 * 5 = 10\n"
     ]
    }
   ],
   "source": [
    "def jumlah (a, b) : \n",
    "    return a + b\n",
    "\n",
    "def kali (a, b) : \n",
    "    hasil = 0 \n",
    "    for i in range(b): \n",
    "        hasil = jumlah(hasil, a) \n",
    "    return hasil\n",
    "\n",
    "if __name__ == \"__main__\":\n",
    "\n",
    "    print(f\"2 * 5 = {2*5}\")\n",
    "\n",
    "    hasil = kali(2, 5) \n",
    "    print(f\"2 * 5 = {hasil}\")"
   ]
  }
 ],
 "metadata": {
  "kernelspec": {
   "display_name": "Python 3",
   "language": "python",
   "name": "python3"
  },
  "language_info": {
   "codemirror_mode": {
    "name": "ipython",
    "version": 3
   },
   "file_extension": ".py",
   "mimetype": "text/x-python",
   "name": "python",
   "nbconvert_exporter": "python",
   "pygments_lexer": "ipython3",
   "version": "3.11.5"
  }
 },
 "nbformat": 4,
 "nbformat_minor": 2
}
